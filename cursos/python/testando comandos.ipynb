{
 "cells": [
  {
   "cell_type": "code",
   "execution_count": 63,
   "id": "4bc44329-4171-4bc1-985c-ceb79b8a567b",
   "metadata": {},
   "outputs": [
    {
     "data": {
      "text/plain": [
       "23"
      ]
     },
     "execution_count": 63,
     "metadata": {},
     "output_type": "execute_result"
    }
   ],
   "source": [
    "def tabuada(n):\n",
    "    listas = [1,2,3,4,5,6,7,8,9,10]\n",
    " \n",
    "    for listas in range (len(listas)+1):\n",
    "        print(listas*n)\n",
    "\n",
    "\n",
    "def QuantRoletes(Paco, Tamanho):\n",
    "    return math.ceil(Tamanho/Paco)\n",
    "\n",
    "\n",
    "def imc (Peso, Altura):\n",
    "    return math.floor(Peso/(Altura**2))\n",
    "\n",
    "imc(67,1.70)\n",
    "    "
   ]
  },
  {
   "cell_type": "code",
   "execution_count": null,
   "id": "5f1fa52d-c63c-435b-ad81-d1c09991255d",
   "metadata": {},
   "outputs": [],
   "source": []
  }
 ],
 "metadata": {
  "kernelspec": {
   "display_name": "Python 3 (ipykernel)",
   "language": "python",
   "name": "python3"
  },
  "language_info": {
   "codemirror_mode": {
    "name": "ipython",
    "version": 3
   },
   "file_extension": ".py",
   "mimetype": "text/x-python",
   "name": "python",
   "nbconvert_exporter": "python",
   "pygments_lexer": "ipython3",
   "version": "3.12.4"
  }
 },
 "nbformat": 4,
 "nbformat_minor": 5
}
