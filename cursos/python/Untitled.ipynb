{
 "cells": [
  {
   "cell_type": "code",
   "execution_count": 96,
   "id": "f7457330-3eae-4bfe-9f99-43cb1dea538e",
   "metadata": {},
   "outputs": [],
   "source": [
    "import pyautogui\n",
    "import time\n",
    "\n",
    "pyautogui.alert('espere a execução completa')\n",
    "pyautogui.PAUSE = 0.5\n",
    "\n",
    "#abrir email\n",
    "pyautogui.press('winleft')\n",
    "pyautogui.write('edge')\n",
    "pyautogui.press('enter')\n",
    "pyautogui.write('https://www.google.com/intl/pt-BR/gmail/about/')\n",
    "time.sleep(1)\n",
    "pyautogui.press('enter')\n",
    "pyautogui.press('tab')\n",
    "pyautogui.press('tab')\n",
    "pyautogui.press('tab')\n",
    "pyautogui.press('enter')\n",
    "time.sleep(3.5)\n",
    "pyautogui.write('sp44578066@gmail.com')\n",
    "pyautogui.press('enter')\n",
    "\n",
    "\n",
    "\n",
    "\n",
    "\n",
    "\n",
    "#entrar na area de trabalho \n",
    "#encontar o arquivo\n",
    "#enviar por email"
   ]
  },
  {
   "cell_type": "code",
   "execution_count": null,
   "id": "35f2e0ca-fb6b-4442-8f30-111b9e8ac839",
   "metadata": {},
   "outputs": [],
   "source": []
  },
  {
   "cell_type": "code",
   "execution_count": null,
   "id": "8f974d52-0ff5-4031-ba98-5bf0a436fb19",
   "metadata": {},
   "outputs": [],
   "source": []
  }
 ],
 "metadata": {
  "kernelspec": {
   "display_name": "Python 3 (ipykernel)",
   "language": "python",
   "name": "python3"
  },
  "language_info": {
   "codemirror_mode": {
    "name": "ipython",
    "version": 3
   },
   "file_extension": ".py",
   "mimetype": "text/x-python",
   "name": "python",
   "nbconvert_exporter": "python",
   "pygments_lexer": "ipython3",
   "version": "3.12.4"
  }
 },
 "nbformat": 4,
 "nbformat_minor": 5
}
